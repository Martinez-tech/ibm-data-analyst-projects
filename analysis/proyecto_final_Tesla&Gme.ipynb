{
 "cells": [
  {
   "cell_type": "markdown",
   "id": "a3d0cb19",
   "metadata": {},
   "source": [
    "#  Final Project - Tesla & GameStop Stock and Revenue Analysis\n",
    "\n",
    "**Name:** Jonatan Martínez  \n",
    "**Year:** 2025  \n",
    "**Course:** Python for Data Science, AI, and Development  \n",
    "\n",
    "---\n",
    "\n",
    "###  Project Description\n",
    "\n",
    "This project presents a financial analysis of two companies: **Tesla Inc. (TSLA)** and **GameStop Corp. (GME)**.\n",
    "\n",
    "The main objectives are:\n",
    "\n",
    "- Extract historical stock data using `yfinance`\n",
    "- Scrape quarterly revenue data from MacroTrends using `BeautifulSoup`\n",
    "- Create dual-axis visualizations comparing stock prices and revenues over time\n",
    "- Organize and document the process using Python and Jupyter Notebook\n",
    "\n",
    "The analysis is divided into six main questions, as required by the final lab instructions.\n"
   ]
  },
  {
   "cell_type": "markdown",
   "id": "940f6718",
   "metadata": {},
   "source": [
    "A Data-Driven Study of Tesla and GameStop: Historical Stock and Revenue Analysis"
   ]
  },
  {
   "cell_type": "code",
   "execution_count": null,
   "id": "39072301",
   "metadata": {},
   "outputs": [],
   "source": [
    "import yfinance as yf\n",
    "import pandas as pd\n",
    "import matplotlib.pyplot as plt\n",
    "from bs4 import BeautifulSoup\n",
    "import requests\n"
   ]
  },
  {
   "cell_type": "code",
   "execution_count": null,
   "id": "6d552586",
   "metadata": {},
   "outputs": [],
   "source": [
    "tesla = yf.Ticker(\"TSLA\")\n",
    "tesla_data = tesla.history(period=\"max\")\n",
    "tesla_data.reset_index(inplace=True)\n",
    "tesla_data.head()\n"
   ]
  },
  {
   "cell_type": "code",
   "execution_count": null,
   "id": "7c6a29ff",
   "metadata": {},
   "outputs": [],
   "source": [
    "url_tesla = \"https://www.macrotrends.net/stocks/charts/TSLA/tesla/revenue\"\n",
    "\n",
    "headers = {\"User-Agent\": \"Mozilla/5.0\"}\n",
    "html_tesla = requests.get(url_tesla, headers=headers).text\n",
    "\n",
    "soup_tesla = BeautifulSoup(html_tesla, \"html.parser\")\n",
    "tables = soup_tesla.find_all(\"table\")\n",
    "\n",
    "tesla_revenue_table = None\n",
    "for table in tables:\n",
    "    if \"Tesla Quarterly Revenue\" in table.text:\n",
    "        tesla_revenue_table = table\n",
    "        break\n",
    "\n",
    "if tesla_revenue_table:\n",
    "    tesla_revenue = pd.read_html(str(tesla_revenue_table))[0]\n",
    "    tesla_revenue.columns = [\"Date\", \"Revenue\"]\n",
    "    tesla_revenue = tesla_revenue[tesla_revenue[\"Revenue\"] != \"\"]\n",
    "    tesla_revenue[\"Date\"] = pd.to_datetime(tesla_revenue[\"Date\"])\n",
    "    tesla_revenue.tail()\n",
    "else:\n",
    "    print(\"❌ Tesla revenue table not found. Please check the webpage structure or URL.\")\n"
   ]
  },
  {
   "cell_type": "code",
   "execution_count": null,
   "id": "cc91362e",
   "metadata": {},
   "outputs": [],
   "source": [
    "gme = yf.Ticker(\"GME\")\n",
    "gme_data = gme.history(period=\"max\")\n",
    "gme_data.reset_index(inplace=True)\n",
    "gme_data.head()\n"
   ]
  },
  {
   "cell_type": "code",
   "execution_count": null,
   "id": "8e952d39",
   "metadata": {},
   "outputs": [],
   "source": [
    "url_gme = \"https://www.macrotrends.net/stocks/charts/GME/gamestop/revenue\"\n",
    "\n",
    "headers = {\"User-Agent\": \"Mozilla/5.0\"}\n",
    "html_gme = requests.get(url_gme, headers=headers).text\n",
    "\n",
    "soup_gme = BeautifulSoup(html_gme, \"html.parser\")\n",
    "tables = soup_gme.find_all(\"table\")\n",
    "\n",
    "gme_revenue_table = None\n",
    "for table in tables:\n",
    "    if \"GameStop Quarterly Revenue\" in table.text:\n",
    "        gme_revenue_table = table\n",
    "        break\n",
    "\n",
    "if gme_revenue_table:\n",
    "    gme_revenue = pd.read_html(str(gme_revenue_table))[0]\n",
    "    gme_revenue.columns = [\"Date\", \"Revenue\"]\n",
    "    gme_revenue = gme_revenue[gme_revenue[\"Revenue\"] != \"\"]\n",
    "    gme_revenue[\"Date\"] = pd.to_datetime(gme_revenue[\"Date\"])\n",
    "    gme_revenue.tail()\n",
    "else:\n",
    "    print(\"❌ GameStop revenue table not found. Please check the webpage structure or URL.\")\n",
    "\n"
   ]
  },
  {
   "cell_type": "code",
   "execution_count": null,
   "id": "83fceb46",
   "metadata": {},
   "outputs": [],
   "source": [
    "def make_tesla_graph(stock_data, revenue_data):\n",
    "    fig, ax1 = plt.subplots(figsize=(14, 6))\n",
    "\n",
    "    ax1.plot(stock_data[\"Date\"], stock_data[\"Close\"], color=\"blue\", label=\"Stock Price\")\n",
    "    ax1.set_xlabel(\"Date\")\n",
    "    ax1.set_ylabel(\"Price (USD)\", color=\"blue\")\n",
    "    ax1.tick_params(axis=\"y\", labelcolor=\"blue\")\n",
    "\n",
    "    ax2 = ax1.twinx()\n",
    "    revenue_data[\"Revenue\"] = revenue_data[\"Revenue\"].str.replace(r\"[\\$,]\", \"\", regex=True).astype(float)\n",
    "    ax2.plot(revenue_data[\"Date\"], revenue_data[\"Revenue\"], color=\"green\", label=\"Revenue\")\n",
    "    ax2.set_ylabel(\"Revenue (USD)\", color=\"green\")\n",
    "    ax2.tick_params(axis=\"y\", labelcolor=\"green\")\n",
    "\n",
    "    plt.title(\"Tesla: Stock Price vs Revenue\")\n",
    "    fig.legend(loc=\"upper left\", bbox_to_anchor=(0.1, 0.9))\n",
    "    plt.grid(True)\n",
    "    plt.tight_layout()\n",
    "    plt.show()\n",
    "\n",
    "make_tesla_graph(tesla_data, tesla_revenue)\n",
    "\n"
   ]
  },
  {
   "cell_type": "code",
   "execution_count": null,
   "id": "ba9b5d31",
   "metadata": {},
   "outputs": [],
   "source": [
    "def make_gme_graph(stock_data, revenue_data):\n",
    "    fig, ax1 = plt.subplots(figsize=(14, 6))\n",
    "\n",
    "    ax1.plot(stock_data[\"Date\"], stock_data[\"Close\"], color=\"red\", label=\"Stock Price\")\n",
    "    ax1.set_xlabel(\"Date\")\n",
    "    ax1.set_ylabel(\"Price (USD)\", color=\"red\")\n",
    "    ax1.tick_params(axis=\"y\", labelcolor=\"red\")\n",
    "\n",
    "    ax2 = ax1.twinx()\n",
    "    revenue_data[\"Revenue\"] = revenue_data[\"Revenue\"].str.replace(r\"[\\$,]\", \"\", regex=True).astype(float)\n",
    "    ax2.plot(revenue_data[\"Date\"], revenue_data[\"Revenue\"], color=\"orange\", label=\"Revenue\")\n",
    "    ax2.set_ylabel(\"Revenue (USD)\", color=\"orange\")\n",
    "    ax2.tick_params(axis=\"y\", labelcolor=\"orange\")\n",
    "\n",
    "    plt.title(\"GameStop: Stock Price vs Revenue\")\n",
    "    fig.legend(loc=\"upper left\", bbox_to_anchor=(0.1, 0.9))\n",
    "    plt.grid(True)\n",
    "    plt.tight_layout()\n",
    "    plt.show()\n",
    "\n",
    "make_gme_graph(gme_data, gme_revenue)\n"
   ]
  },
  {
   "cell_type": "code",
   "execution_count": null,
   "id": "64b0fe1e",
   "metadata": {},
   "outputs": [],
   "source": []
  }
 ],
 "metadata": {
  "kernelspec": {
   "display_name": "Python 3",
   "language": "python",
   "name": "python3"
  },
  "language_info": {
   "codemirror_mode": {
    "name": "ipython",
    "version": 3
   },
   "file_extension": ".py",
   "mimetype": "text/x-python",
   "name": "python",
   "nbconvert_exporter": "python",
   "pygments_lexer": "ipython3",
   "version": "3.13.5"
  }
 },
 "nbformat": 4,
 "nbformat_minor": 5
}
