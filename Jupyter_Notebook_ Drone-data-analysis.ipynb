{
 "cells": [
  {
   "cell_type": "markdown",
   "metadata": {},
   "source": [
    "<center>\n",
    "    <img src=\"https://cf-courses-data.s3.us.cloud-object-storage.appdomain.cloud/IBMDeveloperSkillsNetwork-DS0105EN-SkillsNetwork/labs/Module2/images/SN_web_lightmode.png\" width=\"300\" alt=\"cognitiveclass.ai logo\">\n",
    "</center>\n"
   ]
  },
  {
   "cell_type": "markdown",
   "metadata": {},
   "source": [
    "#### Add your code below following the instructions given in the course\n"
   ]
  },
  {
   "cell_type": "markdown",
   "metadata": {},
   "source": [
    "# Drone Data Science Tools and Ecosystem"
   ]
  },
  {
   "cell_type": "markdown",
   "metadata": {},
   "source": [
    "In this notebook, we explore essential data science tools and concepts, using drone technology as the core use case.\n",
    "Drones generate large volumes of sensor and image data, which require data science techniques for analysis and insights. The examples here reflect real-world drone applications like flight data analysis, image processing, and route optimization."
   ]
  },
  {
   "cell_type": "markdown",
   "metadata": {},
   "source": [
    "## Programming Languages for Drone Data Analysis\n",
    "\n",
    "- Python (for data analysis and control scripts)\n",
    "- SQL (to query drone mission data)\n",
    "- R (for statistical models)\n",
    "- C++ (for real-time flight software)\n",
    "- MATLAB (for simulation and engineering tasks)"
   ]
  },
  {
   "cell_type": "markdown",
   "metadata": {},
   "source": [
    "## Common Data Science Libraries for Drone Applications\n",
    "\n",
    "- Pandas – for managing flight logs and telemetry\n",
    "- NumPy – for numeric drone flight calculations\n",
    "- OpenCV – for drone camera image processing\n",
    "- Matplotlib – for plotting flight paths\n",
    "- Scikit-learn – for predictive maintenance of drone motors"
   ]
  },
  {
   "cell_type": "markdown",
   "metadata": {},
   "source": [
    "## Tools Used in Drone Data Science\n",
    "\n",
    "| Tool             | Category        | Drone Use Example                          |\n",
    "|------------------|----------------|--------------------------------------------|\n",
    "| Jupyter Notebook | IDE / Notebook | Analyzing drone telemetry data             |\n",
    "| GitHub           | Version Control| Sharing drone code and analytics projects  |\n",
    "| DroneDeploy API  | Cloud Service  | Collecting and processing drone imagery    |\n",
    "| OpenCV           | Library        | Detecting objects from drone camera feeds  |\n",
    "| Python           | Language       | Developing analysis scripts for drones     |"
   ]
  },
  {
   "cell_type": "markdown",
   "metadata": {},
   "source": [
    "## Arithmetic Expressions in Drone Context\n",
    "\n",
    "- Calculate battery usage: `120 - 30` minutes left\n",
    "- Total mission time: `15 + 10 + 5` = 30 mins\n",
    "- Estimate area scanned: `40 * 50` = 2000 m²\n",
    "- Flight speed average: `100 / 2` = 50 km/h"
   ]
  },
  {
   "cell_type": "markdown",
   "metadata": {},
   "source": [
    "# Calculate total scanning area covered by drone\n",
    "length_m = 120  **meters**\n",
    "\n",
    "width_m = 80    **meters**\n",
    "\n",
    "extra_area = 150  **extra overlap area in m²**\n",
    "\n",
    "total_area = (length_m * width_m) + extra_area\n",
    "total_area"
   ]
  },
  {
   "cell_type": "code",
   "execution_count": 6,
   "metadata": {},
   "outputs": [
    {
     "name": "stdout",
     "output_type": "stream",
     "text": [
      "Área base escaneada: 45000 m²\n",
      "Margen de seguridad (15%): 6750.0 m²\n",
      "Área total estimada: 51750.0 m²\n"
     ]
    }
   ],
   "source": [
    "\n",
    "length_m = 250  \n",
    "width_m = 180   \n",
    "\n",
    "area_m2 = length_m * width_m\n",
    "safety_margin = area_m2 * 0.15\n",
    "total_area_with_margin = area_m2 + safety_margin\n",
    "\n",
    "print(\"Área base escaneada:\", area_m2, \"m²\")\n",
    "print(\"Margen de seguridad (15%):\", safety_margin, \"m²\")\n",
    "print(\"Área total estimada:\", total_area_with_margin, \"m²\")\n"
   ]
  },
  {
   "cell_type": "code",
   "execution_count": 7,
   "metadata": {},
   "outputs": [
    {
     "name": "stdout",
     "output_type": "stream",
     "text": [
      "Duración de la misión: 3 horas y 5 minutos\n"
     ]
    }
   ],
   "source": [
    "total_minutes = 185\n",
    "hours = total_minutes // 60\n",
    "remaining_minutes = total_minutes % 60\n",
    "\n",
    "print(f\"Duración de la misión: {hours} horas y {remaining_minutes} minutos\")"
   ]
  },
  {
   "cell_type": "code",
   "execution_count": 9,
   "metadata": {},
   "outputs": [
    {
     "name": "stdout",
     "output_type": "stream",
     "text": [
      "- Identify common data science tools used in drone applications\n",
      "- Perform basic calculations relevant to flight planning and area coverage\n",
      "- Interpret sensor data collected during drone missions\n",
      "- Automate flight time conversions and performance metrics\n",
      "- Explore useful libraries such as OpenCV, Pandas, and Matplotlib\n"
     ]
    }
   ],
   "source": [
    "objectives = [\n",
    "    \"Identify common data science tools used in drone applications\",\n",
    "    \"Perform basic calculations relevant to flight planning and area coverage\",\n",
    "    \"Interpret sensor data collected during drone missions\",\n",
    "    \"Automate flight time conversions and performance metrics\",\n",
    "    \"Explore useful libraries such as OpenCV, Pandas, and Matplotlib\"\n",
    "]\n",
    "\n",
    "for obj in objectives:\n",
    "    print(\"-\", obj)\n"
   ]
  },
  {
   "cell_type": "code",
   "execution_count": null,
   "metadata": {},
   "outputs": [],
   "source": [
    "## Author\n",
    "\n",
    "Jonatán Darío Martínez"
   ]
  },
  {
   "cell_type": "code",
   "execution_count": null,
   "metadata": {},
   "outputs": [],
   "source": []
  }
 ],
 "metadata": {
  "kernelspec": {
   "display_name": "Python 3 (ipykernel)",
   "language": "python",
   "name": "python3"
  },
  "language_info": {
   "codemirror_mode": {
    "name": "ipython",
    "version": 3
   },
   "file_extension": ".py",
   "mimetype": "text/x-python",
   "name": "python",
   "nbconvert_exporter": "python",
   "pygments_lexer": "ipython3",
   "version": "3.12.8"
  }
 },
 "nbformat": 4,
 "nbformat_minor": 4
}
